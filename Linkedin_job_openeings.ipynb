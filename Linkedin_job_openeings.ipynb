{
 "cells": [
  {
   "cell_type": "markdown",
   "metadata": {},
   "source": [
    "<h1>Linkedin Data Science Job Postings Analysis<h1>"
   ]
  },
  {
   "cell_type": "code",
   "execution_count": 103,
   "metadata": {},
   "outputs": [],
   "source": [
    "# importing libaries\n",
    "import pandas as pd\n",
    "pd.options.mode.chained_assignment = None  # default='warn'\n",
    "import numpy as np\n",
    "import matplotlib.pyplot as plt\n",
    "\n",
    "import re"
   ]
  },
  {
   "cell_type": "code",
   "execution_count": 104,
   "metadata": {},
   "outputs": [
    {
     "data": {
      "text/html": [
       "<div>\n",
       "<style scoped>\n",
       "    .dataframe tbody tr th:only-of-type {\n",
       "        vertical-align: middle;\n",
       "    }\n",
       "\n",
       "    .dataframe tbody tr th {\n",
       "        vertical-align: top;\n",
       "    }\n",
       "\n",
       "    .dataframe thead th {\n",
       "        text-align: right;\n",
       "    }\n",
       "</style>\n",
       "<table border=\"1\" class=\"dataframe\">\n",
       "  <thead>\n",
       "    <tr style=\"text-align: right;\">\n",
       "      <th></th>\n",
       "      <th>job_title</th>\n",
       "      <th>company</th>\n",
       "      <th>location</th>\n",
       "      <th>work_type</th>\n",
       "      <th>job_desc</th>\n",
       "    </tr>\n",
       "  </thead>\n",
       "  <tbody>\n",
       "    <tr>\n",
       "      <th>4</th>\n",
       "      <td>(Senior) Consultant (w/m/d) Data Engineering</td>\n",
       "      <td>WTS Karriere</td>\n",
       "      <td>Deutschland</td>\n",
       "      <td>Remote</td>\n",
       "      <td>Ihre Aufgaben | Your tasks:\\nDu designst und e...</td>\n",
       "    </tr>\n",
       "    <tr>\n",
       "      <th>12</th>\n",
       "      <td>Junior AI Engineer</td>\n",
       "      <td>Teltec AG</td>\n",
       "      <td>Mainz, Rheinland-Pfalz, Deutschland</td>\n",
       "      <td>Hybrid</td>\n",
       "      <td>We looking for a junior/ senior AI Engineer wi...</td>\n",
       "    </tr>\n",
       "    <tr>\n",
       "      <th>31</th>\n",
       "      <td>Data Catalyst Team Lead (f/m/d) Business Opera...</td>\n",
       "      <td>Siemens Energy</td>\n",
       "      <td>Berlin, Berlin, Deutschland</td>\n",
       "      <td>Hybrid</td>\n",
       "      <td>Data Catalyst Team Lead – Business Operations\\...</td>\n",
       "    </tr>\n",
       "    <tr>\n",
       "      <th>38</th>\n",
       "      <td>Big Data</td>\n",
       "      <td>Finanzguru</td>\n",
       "      <td>Deutschland</td>\n",
       "      <td>Vor Ort</td>\n",
       "      <td>Deine Mission\\n\\nDu arbeitest mit einem interd...</td>\n",
       "    </tr>\n",
       "    <tr>\n",
       "      <th>45</th>\n",
       "      <td>Senior Data Engineer (all genders)</td>\n",
       "      <td>Zühlke Group</td>\n",
       "      <td>Berlin, Berlin, Deutschland</td>\n",
       "      <td>Remote</td>\n",
       "      <td>Software Engineering\\n\\nWelche Aufgaben erwart...</td>\n",
       "    </tr>\n",
       "    <tr>\n",
       "      <th>...</th>\n",
       "      <td>...</td>\n",
       "      <td>...</td>\n",
       "      <td>...</td>\n",
       "      <td>...</td>\n",
       "      <td>...</td>\n",
       "    </tr>\n",
       "    <tr>\n",
       "      <th>1344</th>\n",
       "      <td>Praktikant im Bereich Data Analytics (w/m/x)</td>\n",
       "      <td>BMW Group</td>\n",
       "      <td>Munich, Bavaria, Germany</td>\n",
       "      <td>On-site</td>\n",
       "      <td>DIE ZUKUNFT DER MOBILITÄT? DIGITAL.\\n\\nTEILE D...</td>\n",
       "    </tr>\n",
       "    <tr>\n",
       "      <th>1345</th>\n",
       "      <td>Werkstudent (w/m/d) Data Science / Data Analytics</td>\n",
       "      <td>KPMG Deutschland</td>\n",
       "      <td>Leipzig, Saxony, Germany</td>\n",
       "      <td>On-site</td>\n",
       "      <td>Gestalte bereits als Werkstudent (w/m/d) im Be...</td>\n",
       "    </tr>\n",
       "    <tr>\n",
       "      <th>1350</th>\n",
       "      <td>Data Analyst (m/w/d) Marketing &amp; Analytics</td>\n",
       "      <td>Samsung Electronics</td>\n",
       "      <td>Schwalbach, Hesse, Germany</td>\n",
       "      <td>Hybrid</td>\n",
       "      <td>Position Summary\\nWerden Sie Teil einer großen...</td>\n",
       "    </tr>\n",
       "    <tr>\n",
       "      <th>1351</th>\n",
       "      <td>Data Analytics &amp; Consulting Intern (m/w/d) | C...</td>\n",
       "      <td>Picnic Technologies</td>\n",
       "      <td>Düsseldorf, North Rhine-Westphalia, Germany</td>\n",
       "      <td>On-site</td>\n",
       "      <td>At Picnic, we're revolutionizing the way peopl...</td>\n",
       "    </tr>\n",
       "    <tr>\n",
       "      <th>1352</th>\n",
       "      <td>Data Analytics &amp; Consulting Intern (m/w/d) | E...</td>\n",
       "      <td>Picnic Technologies</td>\n",
       "      <td>Aachen, North Rhine-Westphalia, Germany</td>\n",
       "      <td>Hybrid</td>\n",
       "      <td>At Picnic, we’re revolutionizing the way peopl...</td>\n",
       "    </tr>\n",
       "  </tbody>\n",
       "</table>\n",
       "<p>275 rows × 5 columns</p>\n",
       "</div>"
      ],
      "text/plain": [
       "                                              job_title              company  \\\n",
       "4          (Senior) Consultant (w/m/d) Data Engineering         WTS Karriere   \n",
       "12                                   Junior AI Engineer            Teltec AG   \n",
       "31    Data Catalyst Team Lead (f/m/d) Business Opera...       Siemens Energy   \n",
       "38                                             Big Data           Finanzguru   \n",
       "45                   Senior Data Engineer (all genders)         Zühlke Group   \n",
       "...                                                 ...                  ...   \n",
       "1344       Praktikant im Bereich Data Analytics (w/m/x)            BMW Group   \n",
       "1345  Werkstudent (w/m/d) Data Science / Data Analytics     KPMG Deutschland   \n",
       "1350         Data Analyst (m/w/d) Marketing & Analytics  Samsung Electronics   \n",
       "1351  Data Analytics & Consulting Intern (m/w/d) | C...  Picnic Technologies   \n",
       "1352  Data Analytics & Consulting Intern (m/w/d) | E...  Picnic Technologies   \n",
       "\n",
       "                                         location work_type  \\\n",
       "4                                     Deutschland    Remote   \n",
       "12            Mainz, Rheinland-Pfalz, Deutschland    Hybrid   \n",
       "31                    Berlin, Berlin, Deutschland    Hybrid   \n",
       "38                                    Deutschland   Vor Ort   \n",
       "45                    Berlin, Berlin, Deutschland    Remote   \n",
       "...                                           ...       ...   \n",
       "1344                     Munich, Bavaria, Germany   On-site   \n",
       "1345                     Leipzig, Saxony, Germany   On-site   \n",
       "1350                   Schwalbach, Hesse, Germany    Hybrid   \n",
       "1351  Düsseldorf, North Rhine-Westphalia, Germany   On-site   \n",
       "1352      Aachen, North Rhine-Westphalia, Germany    Hybrid   \n",
       "\n",
       "                                               job_desc  \n",
       "4     Ihre Aufgaben | Your tasks:\\nDu designst und e...  \n",
       "12    We looking for a junior/ senior AI Engineer wi...  \n",
       "31    Data Catalyst Team Lead – Business Operations\\...  \n",
       "38    Deine Mission\\n\\nDu arbeitest mit einem interd...  \n",
       "45    Software Engineering\\n\\nWelche Aufgaben erwart...  \n",
       "...                                                 ...  \n",
       "1344  DIE ZUKUNFT DER MOBILITÄT? DIGITAL.\\n\\nTEILE D...  \n",
       "1345  Gestalte bereits als Werkstudent (w/m/d) im Be...  \n",
       "1350  Position Summary\\nWerden Sie Teil einer großen...  \n",
       "1351  At Picnic, we're revolutionizing the way peopl...  \n",
       "1352  At Picnic, we’re revolutionizing the way peopl...  \n",
       "\n",
       "[275 rows x 5 columns]"
      ]
     },
     "execution_count": 104,
     "metadata": {},
     "output_type": "execute_result"
    }
   ],
   "source": [
    "### Data cleaning\n",
    "\n",
    "# loading the raw webscraped data\n",
    "df_raw = pd.read_csv(r'C:\\Users\\aedan\\PycharmProjects\\Data_Science_Job_Openings\\CSV\\job_positions_merged - Copy.csv')\n",
    "\n",
    "# dropping empty strings in the jobs description\n",
    "df_raw['job_desc'].replace('', np.nan, inplace=True)\n",
    "df_raw.dropna(subset=['job_desc'], inplace=True)\n",
    "\n",
    "# removing duplicates based on all columns\n",
    "df_raw.drop_duplicates(keep='first', inplace=True)\n",
    "\n",
    "# deleting unwanted job positions\n",
    "df_c = df_raw[df_raw['job_title'].str.contains('AI|ML|Daten|Data', na=False)]\n",
    "df_c"
   ]
  },
  {
   "cell_type": "code",
   "execution_count": 105,
   "metadata": {},
   "outputs": [
    {
     "data": {
      "text/html": [
       "<div>\n",
       "<style scoped>\n",
       "    .dataframe tbody tr th:only-of-type {\n",
       "        vertical-align: middle;\n",
       "    }\n",
       "\n",
       "    .dataframe tbody tr th {\n",
       "        vertical-align: top;\n",
       "    }\n",
       "\n",
       "    .dataframe thead th {\n",
       "        text-align: right;\n",
       "    }\n",
       "</style>\n",
       "<table border=\"1\" class=\"dataframe\">\n",
       "  <thead>\n",
       "    <tr style=\"text-align: right;\">\n",
       "      <th></th>\n",
       "      <th>job_title</th>\n",
       "      <th>company</th>\n",
       "      <th>location</th>\n",
       "      <th>work_type</th>\n",
       "      <th>job_desc</th>\n",
       "      <th>seniority</th>\n",
       "    </tr>\n",
       "  </thead>\n",
       "  <tbody>\n",
       "    <tr>\n",
       "      <th>4</th>\n",
       "      <td>(Senior) Consultant (w/m/d) Data Engineering</td>\n",
       "      <td>WTS Karriere</td>\n",
       "      <td>Deutschland</td>\n",
       "      <td>Remote</td>\n",
       "      <td>Ihre Aufgaben | Your tasks:\\nDu designst und e...</td>\n",
       "      <td>Senior</td>\n",
       "    </tr>\n",
       "    <tr>\n",
       "      <th>12</th>\n",
       "      <td>Junior AI Engineer</td>\n",
       "      <td>Teltec AG</td>\n",
       "      <td>Mainz, Rheinland-Pfalz, Deutschland</td>\n",
       "      <td>Hybrid</td>\n",
       "      <td>We looking for a junior/ senior AI Engineer wi...</td>\n",
       "      <td>Junior</td>\n",
       "    </tr>\n",
       "    <tr>\n",
       "      <th>31</th>\n",
       "      <td>Data Catalyst Team Lead (f/m/d) Business Opera...</td>\n",
       "      <td>Siemens Energy</td>\n",
       "      <td>Berlin, Berlin, Deutschland</td>\n",
       "      <td>Hybrid</td>\n",
       "      <td>Data Catalyst Team Lead – Business Operations\\...</td>\n",
       "      <td>Senior</td>\n",
       "    </tr>\n",
       "    <tr>\n",
       "      <th>38</th>\n",
       "      <td>Big Data</td>\n",
       "      <td>Finanzguru</td>\n",
       "      <td>Deutschland</td>\n",
       "      <td>Vor Ort</td>\n",
       "      <td>Deine Mission\\n\\nDu arbeitest mit einem interd...</td>\n",
       "      <td>Mid-level</td>\n",
       "    </tr>\n",
       "    <tr>\n",
       "      <th>45</th>\n",
       "      <td>Senior Data Engineer (all genders)</td>\n",
       "      <td>Zühlke Group</td>\n",
       "      <td>Berlin, Berlin, Deutschland</td>\n",
       "      <td>Remote</td>\n",
       "      <td>Software Engineering\\n\\nWelche Aufgaben erwart...</td>\n",
       "      <td>Senior</td>\n",
       "    </tr>\n",
       "    <tr>\n",
       "      <th>...</th>\n",
       "      <td>...</td>\n",
       "      <td>...</td>\n",
       "      <td>...</td>\n",
       "      <td>...</td>\n",
       "      <td>...</td>\n",
       "      <td>...</td>\n",
       "    </tr>\n",
       "    <tr>\n",
       "      <th>1344</th>\n",
       "      <td>Praktikant im Bereich Data Analytics (w/m/x)</td>\n",
       "      <td>BMW Group</td>\n",
       "      <td>Munich, Bavaria, Germany</td>\n",
       "      <td>On-site</td>\n",
       "      <td>DIE ZUKUNFT DER MOBILITÄT? DIGITAL.\\n\\nTEILE D...</td>\n",
       "      <td>Intern</td>\n",
       "    </tr>\n",
       "    <tr>\n",
       "      <th>1345</th>\n",
       "      <td>Werkstudent (w/m/d) Data Science / Data Analytics</td>\n",
       "      <td>KPMG Deutschland</td>\n",
       "      <td>Leipzig, Saxony, Germany</td>\n",
       "      <td>On-site</td>\n",
       "      <td>Gestalte bereits als Werkstudent (w/m/d) im Be...</td>\n",
       "      <td>Intern</td>\n",
       "    </tr>\n",
       "    <tr>\n",
       "      <th>1350</th>\n",
       "      <td>Data Analyst (m/w/d) Marketing &amp; Analytics</td>\n",
       "      <td>Samsung Electronics</td>\n",
       "      <td>Schwalbach, Hesse, Germany</td>\n",
       "      <td>Hybrid</td>\n",
       "      <td>Position Summary\\nWerden Sie Teil einer großen...</td>\n",
       "      <td>Mid-level</td>\n",
       "    </tr>\n",
       "    <tr>\n",
       "      <th>1351</th>\n",
       "      <td>Data Analytics &amp; Consulting Intern (m/w/d) | C...</td>\n",
       "      <td>Picnic Technologies</td>\n",
       "      <td>Düsseldorf, North Rhine-Westphalia, Germany</td>\n",
       "      <td>On-site</td>\n",
       "      <td>At Picnic, we're revolutionizing the way peopl...</td>\n",
       "      <td>Intern</td>\n",
       "    </tr>\n",
       "    <tr>\n",
       "      <th>1352</th>\n",
       "      <td>Data Analytics &amp; Consulting Intern (m/w/d) | E...</td>\n",
       "      <td>Picnic Technologies</td>\n",
       "      <td>Aachen, North Rhine-Westphalia, Germany</td>\n",
       "      <td>Hybrid</td>\n",
       "      <td>At Picnic, we’re revolutionizing the way peopl...</td>\n",
       "      <td>Intern</td>\n",
       "    </tr>\n",
       "  </tbody>\n",
       "</table>\n",
       "<p>275 rows × 6 columns</p>\n",
       "</div>"
      ],
      "text/plain": [
       "                                              job_title              company  \\\n",
       "4          (Senior) Consultant (w/m/d) Data Engineering         WTS Karriere   \n",
       "12                                   Junior AI Engineer            Teltec AG   \n",
       "31    Data Catalyst Team Lead (f/m/d) Business Opera...       Siemens Energy   \n",
       "38                                             Big Data           Finanzguru   \n",
       "45                   Senior Data Engineer (all genders)         Zühlke Group   \n",
       "...                                                 ...                  ...   \n",
       "1344       Praktikant im Bereich Data Analytics (w/m/x)            BMW Group   \n",
       "1345  Werkstudent (w/m/d) Data Science / Data Analytics     KPMG Deutschland   \n",
       "1350         Data Analyst (m/w/d) Marketing & Analytics  Samsung Electronics   \n",
       "1351  Data Analytics & Consulting Intern (m/w/d) | C...  Picnic Technologies   \n",
       "1352  Data Analytics & Consulting Intern (m/w/d) | E...  Picnic Technologies   \n",
       "\n",
       "                                         location work_type  \\\n",
       "4                                     Deutschland    Remote   \n",
       "12            Mainz, Rheinland-Pfalz, Deutschland    Hybrid   \n",
       "31                    Berlin, Berlin, Deutschland    Hybrid   \n",
       "38                                    Deutschland   Vor Ort   \n",
       "45                    Berlin, Berlin, Deutschland    Remote   \n",
       "...                                           ...       ...   \n",
       "1344                     Munich, Bavaria, Germany   On-site   \n",
       "1345                     Leipzig, Saxony, Germany   On-site   \n",
       "1350                   Schwalbach, Hesse, Germany    Hybrid   \n",
       "1351  Düsseldorf, North Rhine-Westphalia, Germany   On-site   \n",
       "1352      Aachen, North Rhine-Westphalia, Germany    Hybrid   \n",
       "\n",
       "                                               job_desc  seniority  \n",
       "4     Ihre Aufgaben | Your tasks:\\nDu designst und e...     Senior  \n",
       "12    We looking for a junior/ senior AI Engineer wi...     Junior  \n",
       "31    Data Catalyst Team Lead – Business Operations\\...     Senior  \n",
       "38    Deine Mission\\n\\nDu arbeitest mit einem interd...  Mid-level  \n",
       "45    Software Engineering\\n\\nWelche Aufgaben erwart...     Senior  \n",
       "...                                                 ...        ...  \n",
       "1344  DIE ZUKUNFT DER MOBILITÄT? DIGITAL.\\n\\nTEILE D...     Intern  \n",
       "1345  Gestalte bereits als Werkstudent (w/m/d) im Be...     Intern  \n",
       "1350  Position Summary\\nWerden Sie Teil einer großen...  Mid-level  \n",
       "1351  At Picnic, we're revolutionizing the way peopl...     Intern  \n",
       "1352  At Picnic, we’re revolutionizing the way peopl...     Intern  \n",
       "\n",
       "[275 rows x 6 columns]"
      ]
     },
     "execution_count": 105,
     "metadata": {},
     "output_type": "execute_result"
    }
   ],
   "source": [
    "# generating seniority variable\n",
    "def seniority(a):\n",
    "    if 'Praktikant' in a:\n",
    "        return 'Intern'\n",
    "    elif 'Werkstudent' in a:\n",
    "        return 'Intern'\n",
    "    elif 'Intern' in a:\n",
    "        return 'Intern'\n",
    "    elif 'Trainee' in a:\n",
    "        return 'Trainee'\n",
    "    elif 'Junior' in a:\n",
    "        return 'Junior'\n",
    "    elif 'Senior' in a:\n",
    "        return 'Senior'\n",
    "    elif 'Manager' in a:\n",
    "        return 'Senior'\n",
    "    elif 'Lead' in a:\n",
    "        return 'Senior'\n",
    "    else:\n",
    "        return 'Mid-level'\n",
    "\n",
    "df_c['seniority'] = df_c.job_title.apply(lambda x: seniority(x))\n",
    "\n",
    "# saving the cleaned df\n",
    "df_c.to_csv(r'data_science_jobs.csv', index=False)\n",
    "df_c"
   ]
  },
  {
   "cell_type": "code",
   "execution_count": 106,
   "metadata": {},
   "outputs": [
    {
     "data": {
      "text/plain": [
       "Text(0.5, 1.0, 'Top 15 Companies By Job Postings')"
      ]
     },
     "execution_count": 106,
     "metadata": {},
     "output_type": "execute_result"
    },
    {
     "data": {
      "image/png": "[encoded data removed]",
      "text/plain": [
       "<Figure size 432x288 with 1 Axes>"
      ]
     },
     "metadata": {
      "needs_background": "light"
     },
     "output_type": "display_data"
    }
   ],
   "source": [
    "### Data Description   \n",
    "\n",
    "# companies bar plot\n",
    "df_c.company.value_counts()[:15].plot(kind='barh')\n",
    "plt.title('Top 15 Companies By Job Postings', fontsize=18)"
   ]
  },
  {
   "cell_type": "markdown",
   "metadata": {},
   "source": [
    "Telus International, an IT company is has the most job openings by far at 24. My dataset could well be biased here, since Telus paid for advertised job openings, which makes their job openings apear more frequent than others. \n",
    "\n",
    "Other than that, there is a big mix of industries looking for data scientists, such as consultancies (PWC, Deloitte), car industry (AUDI, BMW) and IT (Huawei)."
   ]
  },
  {
   "cell_type": "code",
   "execution_count": 107,
   "metadata": {},
   "outputs": [
    {
     "data": {
      "text/plain": [
       "Text(0, 0.5, 'Count')"
      ]
     },
     "execution_count": 107,
     "metadata": {},
     "output_type": "execute_result"
    },
    {
     "data": {
      "image/png": "[encoded data removed]",
      "text/plain": [
       "<Figure size 432x288 with 1 Axes>"
      ]
     },
     "metadata": {
      "needs_background": "light"
     },
     "output_type": "display_data"
    }
   ],
   "source": [
    "# bar plot of role type (seniority)\n",
    "df_c.seniority.value_counts().plot(kind='barh')\n",
    "plt.title('Count of Jobs by Seniority')\n",
    "plt.xlabel('Seniority', fontsize=14)\n",
    "plt.ylabel('Count', fontsize=14)\n"
   ]
  },
  {
   "cell_type": "markdown",
   "metadata": {},
   "source": [
    "By far most of the job openings are for mid level jobs. The other role types are fairly similar."
   ]
  },
  {
   "cell_type": "code",
   "execution_count": 108,
   "metadata": {},
   "outputs": [
    {
     "data": {
      "text/plain": [
       "Text(0.5, 1.0, 'Demanded Skills')"
      ]
     },
     "execution_count": 108,
     "metadata": {},
     "output_type": "execute_result"
    },
    {
     "data": {
      "image/png": "[encoded data removed]",
      "text/plain": [
       "<Figure size 432x288 with 1 Axes>"
      ]
     },
     "metadata": {
      "needs_background": "light"
     },
     "output_type": "display_data"
    }
   ],
   "source": [
    "# Counting desired software/programming skills\n",
    "python = df_c.job_desc.str.count('Python').sum()     \n",
    "R = df_c.job_desc.str.count('R ').sum()         \n",
    "tableau = df_c.job_desc.str.count('Tableau').sum()     \n",
    "pbi = df_c.job_desc.str.count('Power BI').sum()  \n",
    "excel = df_c.job_desc.str.count('Excel').sum()   \n",
    "sql = df_c.job_desc.str.count('SQL').sum()\n",
    "\n",
    "skills = ['python', 'R', 'pbi', 'tableau', 'excel', 'sql']\n",
    "counts = [python, R, tableau, pbi, excel, sql]\n",
    "dic = {'Skills': skills, 'Counts': counts}\n",
    "\n",
    "df_1 = pd.DataFrame(dic)\n",
    "\n",
    "df_sorted = df_1.sort_values('Counts',ascending=False)\n",
    "df_sorted\n",
    "\n",
    "plt.bar('Skills', 'Counts', data = df_sorted)\n",
    "plt.title('Demanded Skills')"
   ]
  },
  {
   "cell_type": "markdown",
   "metadata": {},
   "source": [
    "* we can see the most demaned skill is Python with SQL being a clode second. Other job posting analyses have shown that SQL is the most demanded skill. \n",
    "* similarly, it was excepcted that python as a programming language is more sought after than R\n",
    "* regards to data visualisation tools Microsoft's Power BI is in higher demand than Tableau\n",
    "* surprisingly, Excel ist only the fourth important skill"
   ]
  },
  {
   "cell_type": "code",
   "execution_count": 135,
   "metadata": {},
   "outputs": [
    {
     "data": {
      "text/plain": [
       "Text(0.5, 1.0, 'Data Associated Roles')"
      ]
     },
     "execution_count": 135,
     "metadata": {},
     "output_type": "execute_result"
    },
    {
     "data": {
      "image/png": "[encoded data removed]",
      "text/plain": [
       "<Figure size 432x288 with 1 Axes>"
      ]
     },
     "metadata": {
      "needs_background": "light"
     },
     "output_type": "display_data"
    }
   ],
   "source": [
    "# counting different data assosciated roles\n",
    "data_sc = df_c.job_title.str.count(\"Data Analy\").sum()\n",
    "data_an = df_c.job_title.str.count(\"Data Scien\").sum()\n",
    "data_en = df_c.job_title.str.count(\"Data En\").sum()\n",
    "\n",
    "# setting up a dictionary of the above\n",
    "dict_2 = {'Role': ['Data Scientist', 'Data Analyst', 'Data Engineer'],\n",
    "        'Count': [data_sc, data_an, data_sc]}\n",
    "\n",
    "# saving it in a df    \n",
    "df_2 = pd.DataFrame(dict_2)\n",
    "\n",
    "# bar plot\n",
    "plt.bar('Role', 'Count', data=dict_2)\n",
    "plt.title('Data Associated Roles')"
   ]
  },
  {
   "cell_type": "markdown",
   "metadata": {},
   "source": [
    "* the most sought after data associated role is the Data Analyst\n",
    "* with almost twice as many job postings as Data Scientists and Data Engineer\n",
    "* contrary to my expectation Data Engineers are not as highly demanded"
   ]
  },
  {
   "cell_type": "code",
   "execution_count": 136,
   "metadata": {},
   "outputs": [
    {
     "data": {
      "text/plain": [
       "Text(0.5, 0, 'Location counts')"
      ]
     },
     "execution_count": 136,
     "metadata": {},
     "output_type": "execute_result"
    },
    {
     "data": {
      "image/png": "[encoded data removed]",
      "text/plain": [
       "<Figure size 432x288 with 1 Axes>"
      ]
     },
     "metadata": {
      "needs_background": "light"
     },
     "output_type": "display_data"
    }
   ],
   "source": [
    "# creating a copy of the original df to overcome 'SettingWithCopyWarning'\n",
    "from matplotlib.pyplot import xlabel\n",
    "\n",
    "\n",
    "df_copy = df_c[['location']].copy(deep=True)\n",
    "\n",
    "replace_values = {'München': 'Munich', 'Deutschland' : 'Germany', 'Berlin, Berlin': 'Berlin', 'Hamburg, Hamburg': 'Hamburg', 'Bayern': 'Bavaria'}\n",
    "\n",
    "# replacing ambiguity in the location column\n",
    "df_copy['location'] = df_copy['location'].replace('Deutschland', 'Germany', regex=True)\n",
    "df_copy['location'] = df_copy['location'].replace('Berlin, Berlin', 'Berlin', regex=True)\n",
    "df_copy['location'] = df_copy['location'].replace('Hamburg, Hamburg', 'Hamburg',regex=True)\n",
    "df_copy['location'] = df_copy['location'].replace('Bayern', 'Bavaria', regex=True)\n",
    "df_copy['location'] = df_copy['location'].replace('München', 'Munich', regex=True)\n",
    "df_copy['location'] = df_copy['location'].replace('Frankfurt am Main', 'Frankfurt', regex=True)\n",
    "df_copy['location'] = df_copy['location'].replace('Hessen', 'Hesse', regex=True)\n",
    "df_copy['location'] = df_copy['location'].replace('Nordrhein-Westfalen', 'North Rhine-Westphalia', regex=True)\n",
    "df_copy['location'] = df_copy['location'].replace('Köln', 'Cologne', regex=True)\n",
    "\n",
    "df_copy.location.value_counts()[:10].plot(kind='barh')\n",
    "xlabel('Location counts')"
   ]
  },
  {
   "cell_type": "markdown",
   "metadata": {},
   "source": [
    "* Berlin offers the most roles\n",
    "* clearly the big metropolitan cities of Germany are offering most of the jobs\n",
    "* except Berlin all cities in the top ten are in the west\n",
    "* interestingly 'Germany' ranks third, suggesting that these jobs are all remote "
   ]
  }
 ],
 "metadata": {
  "kernelspec": {
   "display_name": "Python 3.9.12 ('base')",
   "language": "python",
   "name": "python3"
  },
  "language_info": {
   "codemirror_mode": {
    "name": "ipython",
    "version": 3
   },
   "file_extension": ".py",
   "mimetype": "text/x-python",
   "name": "python",
   "nbconvert_exporter": "python",
   "pygments_lexer": "ipython3",
   "version": "3.9.12"
  },
  "orig_nbformat": 4,
  "vscode": {
   "interpreter": {
    "hash": "298f11f1bc37c0977d13300928de2855f0ba81dcebd5afe6513f91d86925e170"
   }
  }
 },
 "nbformat": 4,
 "nbformat_minor": 2
}
